{
 "cells": [
  {
   "cell_type": "markdown",
   "metadata": {
    "id": "vBr_GpLxN5if"
   },
   "source": [
    "# **Exercise 1** - Introduction To Probability\n",
    "Sekolah Data - Pacmann"
   ]
  },
  {
   "cell_type": "markdown",
   "metadata": {
    "id": "Shzz7Gx0N7Dg"
   },
   "source": [
    "---\n",
    "**Mengevaluasi pemahaman praktikal materi**:\n",
    "- Set and Counting\n",
    "- Probability Model & Axioms\n",
    "- Conditional Probability\n"
   ]
  },
  {
   "cell_type": "code",
   "execution_count": 3,
   "metadata": {
    "id": "aEZFjp1POWet"
   },
   "outputs": [],
   "source": [
    "# Jalankan code di bawah ini\n",
    "import numpy as np\n",
    "import pandas as pd\n",
    "import random\n",
    "\n",
    "from tabulate import tabulate"
   ]
  },
  {
   "cell_type": "markdown",
   "metadata": {
    "id": "6p2zKvgeORvb"
   },
   "source": [
    "---\n",
    "# **1. Set and Counting**\n",
    "> Total: 12 Pertanyaan, 30 point"
   ]
  },
  {
   "cell_type": "markdown",
   "metadata": {
    "id": "lX4s6AQuQAK4"
   },
   "source": [
    "## **Case: Merencanakan Survey Produk Kopi**\n",
    "> 7 pertanyaan, 7 point\n",
    "---\n",
    "\n",
    "- Untuk meningkatkan kualitas produk minuman kopi, Anda berencana ingin bertemu customer untuk menanyakan persepsi mereka mengenai beberapa fitur:\n",
    "  - Harga yang sesuai\n",
    "  - Porsi yang sesuai\n",
    "  - Rasa yang sesuai"
   ]
  },
  {
   "cell_type": "markdown",
   "metadata": {
    "id": "WIruC4DGdEj7"
   },
   "source": [
    "- Anda pertama-tama mengirimkan kuesioner ke 1.000 orang\n",
    "- Setelah analisa awal, Anda mendapatkan 7 orang customer yang sangat potensial digali pendapatnya dengan cara FGD"
   ]
  },
  {
   "cell_type": "markdown",
   "metadata": {
    "id": "DRu6fXzxdyLH"
   },
   "source": [
    "- Didapat hasil survey persepsi terhadap kopi anda dari 7 orang customer tersebut.\n",
    "\n",
    "|ID customer|Harga sesuai|Porsi sesuai|Rasa sesuai|\n",
    "|:--:|:--:|:--:|:--:|\n",
    "|1|Ya|Tidak|Tidak|\n",
    "|2|Ya|Tidak|Ya|\n",
    "|3|Ya|Ya|Ya|\n",
    "|4|Ya|Ya|Ya|\n",
    "|5|Tidak|Ya|Ya|\n",
    "|6|Tidak|Tidak|Ya|\n",
    "|7|Tidak|Tidak|Tidak|"
   ]
  },
  {
   "cell_type": "markdown",
   "metadata": {
    "id": "4C9JpLowettJ"
   },
   "source": [
    "---\n",
    "**Pertanyaan**\n",
    "\n",
    "Customer dengan ID berapa saja yang harus Anda hubungi apabila Anda ingin membuat FGD dengan syarat:\n",
    "1. Customer yang merasa **Harga Sesuai** atau **Porsi Sesuai**\n",
    "2. Customer yang merasa **Harga** dan **Porsi** sesuai\n",
    "3. Customer yang merasa **Harga**-nya **tidak sesuai**\n",
    "4. Customer yang merasa **Harga Sesuai** atau **Porsi Sesuai**, dan **Rasa sesuai**\n",
    "5. Customer yang merasa **Harga** dan **Porsi** sesuai, atau **Rasa Sesuai**\n",
    "6. Customer yang merasa **Harga** atau **Porsi** atau **Rasa**-nya **sesuai**"
   ]
  },
  {
   "cell_type": "markdown",
   "metadata": {
    "id": "f5hPH_Wpfroh"
   },
   "source": [
    "---\n",
    "**Jawaban**\n",
    "\n",
    "- Kita dapat menjawab pertanyaan ini dengan teori set\n",
    "- Pertama-tama, kelompokkan ID customer sesuai dengan fitur yang ingin diketahui.\n",
    "- Misal\n",
    "  - $\\Omega := \\{ \\text{seluruh ID customer} \\}$\n",
    "  - $A := \\{ \\text{ID customer yang merasa harganya sesuai} \\}$\n",
    "  - $B := \\{ \\text{ID customer yang merasa porsi sesuai} \\}$\n",
    "  - $C := \\{ \\text{ID customer yang merasa rasanya sesuai} \\}$"
   ]
  },
  {
   "cell_type": "markdown",
   "metadata": {
    "id": "VGTdyurCgX17"
   },
   "source": [
    "---\n",
    "### **Pertanyaan 1** - [1 point] <br>\n",
    "Tentukan himpunan $A$, $B$, dan $C$ apabila $\\Omega := \\{ 1, 2, 3, 4, 5, 6, 7 \\}$"
   ]
  },
  {
   "cell_type": "code",
   "execution_count": null,
   "metadata": {
    "colab": {
     "base_uri": "https://localhost:8080/"
    },
    "executionInfo": {
     "elapsed": 466,
     "status": "ok",
     "timestamp": 1665457734636,
     "user": {
      "displayName": "Ana Alimatus Zaqiyah",
      "userId": "13257616599832003835"
     },
     "user_tz": -420
    },
    "id": "5f8xY1x1glVp",
    "outputId": "540775a2-bc43-462f-81ee-7ca1dd161299"
   },
   "outputs": [
    {
     "name": "stdout",
     "output_type": "stream",
     "text": [
      "ruang sampel: {1, 2, 3, 4, 5, 6, 7}\n"
     ]
    }
   ],
   "source": [
    "# Himpunan seluruh ID customer\n",
    "sampel = {1, 2, 3, 4, 5, 6, 7}\n",
    "\n",
    "print(f\"ruang sampel: {sampel}\")"
   ]
  },
  {
   "cell_type": "code",
   "execution_count": null,
   "metadata": {
    "colab": {
     "base_uri": "https://localhost:8080/"
    },
    "executionInfo": {
     "elapsed": 551,
     "status": "ok",
     "timestamp": 1665457740629,
     "user": {
      "displayName": "Ana Alimatus Zaqiyah",
      "userId": "13257616599832003835"
     },
     "user_tz": -420
    },
    "id": "PVnom6E6kQJN",
    "outputId": "facdb2cb-59c1-43dd-9ce0-2a771bfe4c54"
   },
   "outputs": [
    {
     "name": "stdout",
     "output_type": "stream",
     "text": [
      "ID customer yang merasa harga-nya sesuai, A : {Ellipsis}\n",
      "ID customer yang merasa porsi-nya sesuai, B : {Ellipsis}\n",
      "ID customer yang merasa rasa-nya sesuai, C : {Ellipsis}\n"
     ]
    }
   ],
   "source": [
    "# Isi dengan id customer berdasarkan tabel survey yang ada\n",
    "A = {...}\n",
    "print(f\"ID customer yang merasa harga-nya sesuai, A : {A}\")\n",
    "\n",
    "B = {...}\n",
    "print(f\"ID customer yang merasa porsi-nya sesuai, B : {B}\")\n",
    "\n",
    "C = {...}\n",
    "print(f\"ID customer yang merasa rasa-nya sesuai, C : {C}\")"
   ]
  },
  {
   "cell_type": "markdown",
   "metadata": {
    "id": "0yyUQOKahNZb"
   },
   "source": [
    "---\n",
    "### **Pertanyaan 2** - [1 point] <br>\n",
    "Customer yang merasa **Harga Sesuai** atau **Porsi Sesuai**"
   ]
  },
  {
   "cell_type": "markdown",
   "metadata": {
    "id": "By1h7ez8hSRp"
   },
   "source": [
    "- Untuk menjawab ini, dapat kita ubah dalam notasi himpunan sebagai: $A \\cup B$\n",
    "- Maka"
   ]
  },
  {
   "cell_type": "code",
   "execution_count": null,
   "metadata": {
    "colab": {
     "base_uri": "https://localhost:8080/"
    },
    "executionInfo": {
     "elapsed": 486,
     "status": "ok",
     "timestamp": 1665457747348,
     "user": {
      "displayName": "Ana Alimatus Zaqiyah",
      "userId": "13257616599832003835"
     },
     "user_tz": -420
    },
    "id": "hQ9_D53Pkp1k",
    "outputId": "aa704a7d-774a-484c-ccc9-0adda8056671"
   },
   "outputs": [
    {
     "name": "stdout",
     "output_type": "stream",
     "text": [
      "{Ellipsis}\n"
     ]
    }
   ],
   "source": [
    "# Isi dengan ID customer yang sesuai\n",
    "jawaban = {...}\n",
    "\n",
    "print(jawaban)"
   ]
  },
  {
   "cell_type": "markdown",
   "metadata": {
    "id": "9Pr-4GJvhmec"
   },
   "source": [
    "---\n",
    "### **Pertanyaan 3** - [1 point] <br>\n",
    "Customer yang merasa **Harga** dan **Porsi** sesuai"
   ]
  },
  {
   "cell_type": "code",
   "execution_count": null,
   "metadata": {
    "id": "jFeXfuvUkzmz"
   },
   "outputs": [],
   "source": [
    "# Isi dengan ID customer yang sesuai\n",
    "jawaban = {...}\n",
    "\n",
    "print(jawaban)"
   ]
  },
  {
   "cell_type": "markdown",
   "metadata": {
    "id": "5hd2-EbHiCG1"
   },
   "source": [
    "---\n",
    "### **Pertanyaan 4** - [1 point] <br>\n",
    "Customer yang merasa **Harga**-nya **tidak sesuai**"
   ]
  },
  {
   "cell_type": "code",
   "execution_count": null,
   "metadata": {
    "id": "oTziyqHmk4Hh"
   },
   "outputs": [],
   "source": [
    "# Isi dengan ID customer yang sesuai\n",
    "jawaban = {...}\n",
    "\n",
    "print(jawaban)"
   ]
  },
  {
   "cell_type": "markdown",
   "metadata": {
    "id": "xMLdaEKRiC2S"
   },
   "source": [
    "---\n",
    "### **Pertanyaan 5** - [1 point] <br>\n",
    "Customer yang merasa **Harga Sesuai** atau **Porsi Sesuai**, dan **Rasa sesuai**"
   ]
  },
  {
   "cell_type": "markdown",
   "metadata": {
    "id": "s-StudAyiC2T"
   },
   "source": [
    "- Yang ditanya adalah: $(A \\cup B) \\cap C$\n",
    "- Maka"
   ]
  },
  {
   "cell_type": "code",
   "execution_count": null,
   "metadata": {
    "id": "wuRrjp5ok6kw"
   },
   "outputs": [],
   "source": [
    "# Isi dengan ID customer yang sesuai\n",
    "jawaban = {...}\n",
    "\n",
    "print(jawaban)"
   ]
  },
  {
   "cell_type": "markdown",
   "metadata": {
    "id": "58afZg5HiDOo"
   },
   "source": [
    "---\n",
    "### **Pertanyaan 6** - [1 point] <br>\n",
    "Customer yang merasa **Harga** dan **Porsi** sesuai, atau **Rasa Sesuai**"
   ]
  },
  {
   "cell_type": "code",
   "execution_count": null,
   "metadata": {
    "id": "ARThHW1Bk87c"
   },
   "outputs": [],
   "source": [
    "# Isi dengan ID customer yang sesuai\n",
    "jawaban = {...}\n",
    "\n",
    "print(jawaban)"
   ]
  },
  {
   "cell_type": "markdown",
   "metadata": {
    "id": "gQfPzs4viDmB"
   },
   "source": [
    "---\n",
    "### **Pertanyaan 7** - [1 point] <br>\n",
    "Customer yang merasa **Harga** atau **Porsi** atau **Rasa**-nya **sesuai**"
   ]
  },
  {
   "cell_type": "code",
   "execution_count": null,
   "metadata": {
    "id": "fqp6ezT5k988"
   },
   "outputs": [],
   "source": [
    "# Isi dengan ID customer yang sesuai\n",
    "jawaban = {...}\n",
    "\n",
    "print(jawaban)"
   ]
  },
  {
   "cell_type": "markdown",
   "metadata": {
    "id": "4BKA29OtlCTa"
   },
   "source": [
    "## **Case: BUMN dan Pandemi**\n",
    "> 2 Pertanyaan, 10 point\n",
    "---\n",
    "\n",
    "- Anda ingin mengeksplorasi kondisi BUMN selama masa Pandemi"
   ]
  },
  {
   "cell_type": "markdown",
   "metadata": {
    "id": "ofJlcDvhAqMI"
   },
   "source": [
    "Diketahui\n",
    "- $U$ adalah himpunan dari seluruh BUMN publik di Indonesia\n",
    "- $P$ adalah himpunan BUMN publik yang profit pada pandemi covid\n",
    "- $D$ adalah himpunan BUMN publik yang membayarkan deviden pada masa covid \n",
    "- dan $L$ adalah himpunan BUMN publik yang mengalami kenaikan dari sisi jumlah pegawai."
   ]
  },
  {
   "cell_type": "markdown",
   "metadata": {
    "id": "5RbiFiKwA4Dc"
   },
   "source": [
    "**Pertanyaan**\n",
    "1. Gambarkan area dari $P$, $D$ dan $L$ menggunakan **diagram venn**, jika diasumsikan pasti ada irisan dari setiap himpunan.\n",
    "2. Interpretasikan setiap irisan dalam diagram venn tersebut dan cara mencarinya menggunakan teori himpunan."
   ]
  },
  {
   "cell_type": "markdown",
   "metadata": {
    "id": "KGbC1Jo_COFc"
   },
   "source": [
    "### **Pertanyaan 1** - [6 point]\n",
    "Gambarkan area dari $P$, $D$ dan $L$ menggunakan **diagram venn**, jika diasumsikan pasti ada irisan dari setiap himpunan.\n",
    "\n",
    "---"
   ]
  },
  {
   "cell_type": "markdown",
   "metadata": {
    "id": "utTM8ekYCazn"
   },
   "source": [
    "- Dapat buat gambar diagram venn secara digital / tulis tangan\n",
    "- Masukkan gambar-nya disini"
   ]
  },
  {
   "cell_type": "markdown",
   "metadata": {
    "id": "xmUCqv2wC5x9"
   },
   "source": [
    "### **Pertanyaan 2** - [4 point]\n",
    "Interpretasikan setiap irisan dalam diagram venn tersebut dan cara mencarinya menggunakan teori himpunan.\n",
    "\n",
    "---"
   ]
  },
  {
   "cell_type": "markdown",
   "metadata": {
    "id": "B5r77RUKDATJ"
   },
   "source": [
    "- Tulis jawaban disini dengan cara meng-edit cell ini\n",
    "- Jawaban dapat ditulis dalam bentuk poin-poin"
   ]
  },
  {
   "cell_type": "markdown",
   "metadata": {
    "id": "OPrq-JzJDQvo"
   },
   "source": [
    "## **Case: Supervisor Kebersihan**\n",
    "> 3 Pertanyaan, 13 point\n",
    "---\n",
    "\n",
    "- Anda seorang supervisor bagian kebersihan di sebuah perusahaan Suka Bersih\n",
    "- Perusahaan Suka Bersih hanya menerapkan 3 hari kerja dalam 1 minggu.\n",
    "- Anda diminta untuk mengatur jadwal piket dari 5 orang karyawan."
   ]
  },
  {
   "cell_type": "markdown",
   "metadata": {
    "id": "g6Hdq5HulcvJ"
   },
   "source": [
    "- Misalkan 5 karyawan tersebut kita sebut dengan Cahya, Ana, Rezka, Ghifari, dan Imam.\n",
    "- Maka, kombinasi jadwal yang mungkin adalah\n",
    "   - Minggu 1: Cahya, Rezka, Imam \n",
    "   - Minggu 2: Cahya, Rezka, Ana\n",
    "   - dan seterusnya\n",
    "\n",
    "- Dapat Anda lihat, ada kondisi Cahya & Rezka bekerja di minggu pertama dan kedua.\n",
    "- Apabila Anda menggaji seluruh pegawai tiap 2 minggu, maka akan ada kondisi dimana beberapa pegawai bekerja lebih dibandingkan yang lain.\n",
    "- Untuk aspek keadilan dalam memberikan gaji karyawan, Anda harus menentukan rotasi mingguan yang dibutuhkan sehingga semua karyawan merasakan beban bekerja yang sama."
   ]
  },
  {
   "cell_type": "markdown",
   "metadata": {
    "id": "x85PmUtnm0eW"
   },
   "source": [
    "### **Pertanyaan 1** - [2 point]\n",
    "- Berapa banyak rotasi mingguan yang dibutuhkan sehingga semua karyawan mendapatkan jatah kerja yang sama?\n",
    "\n",
    "---"
   ]
  },
  {
   "cell_type": "markdown",
   "metadata": {
    "id": "DkNAIdZsm9EK"
   },
   "source": [
    "- Untuk menjawab ini, Anda dapat membuat kombinasi jadwal kerjanya dengan menjalankan code berikut"
   ]
  },
  {
   "cell_type": "code",
   "execution_count": null,
   "metadata": {
    "id": "EVF5d13BnTHi"
   },
   "outputs": [],
   "source": [
    "# Jalankan code ini untuk menggunakan library ini\n",
    "from itertools import combinations"
   ]
  },
  {
   "cell_type": "code",
   "execution_count": null,
   "metadata": {
    "colab": {
     "base_uri": "https://localhost:8080/"
    },
    "executionInfo": {
     "elapsed": 489,
     "status": "ok",
     "timestamp": 1665457791189,
     "user": {
      "displayName": "Ana Alimatus Zaqiyah",
      "userId": "13257616599832003835"
     },
     "user_tz": -420
    },
    "id": "c4Idd_P05Wb0",
    "outputId": "ac0793c5-4cb7-45ca-fe8a-fa75822eace2"
   },
   "outputs": [
    {
     "name": "stdout",
     "output_type": "stream",
     "text": [
      "---\n",
      "Dibutuhkan 0 rotasi mingguan agar semua karyawan mendapatkan jatah kerja yang sama\n"
     ]
    }
   ],
   "source": [
    "# Lengkapi Code berikut - [2 point]\n",
    "jumlah_hari_kerja = ...   # Isi dengan jumlah hari kerja tiap minggunya\n",
    "nama_karyawan = {\"Cahya\", \"Ana\", \"Rezka\", \"Ghifari\", \"Imam\"}\n",
    "\n",
    "n_minggu = 0\n",
    "for index, jadwal_kerja in enumerate(combinations(nama_karyawan, jumlah_hari_kerja)):\n",
    "    print(f\"shift minggu ke-{index+1} : {jadwal_kerja}\")\n",
    "    n_minggu += 1\n",
    "\n",
    "print(\"---\")\n",
    "print(f\"Dibutuhkan {n_minggu} rotasi mingguan agar semua karyawan mendapatkan jatah kerja yang sama\")"
   ]
  },
  {
   "cell_type": "markdown",
   "metadata": {
    "id": "CYy9k4x85hgh"
   },
   "source": [
    "- Dari data di atas, dapat dilihat, dalam rotasi mingguan tersebut Ghifari, Ana, Cahya, Rezka, dan Imam memiliki jumlah jadwal kerja yang sama, masing-masing 6."
   ]
  },
  {
   "cell_type": "markdown",
   "metadata": {
    "id": "PrakSuj75kxy"
   },
   "source": [
    "### **Pertanyaan 2** - [8 point]\n",
    "- Berapa banyak rotasi mingguan yang dibutuhkan sehingga semua karyawan mendapatkan jatah kerja yang sama, **apabila**\n",
    "  1. Perusahaan menerapkan sistem kerja 4x seminggu\n",
    "  2. Karyawannya sekarang ada 7 orang Cahya, Ghifari, Rezka, Ana, Imam, Shandy, dan Faizal\n",
    "---"
   ]
  },
  {
   "cell_type": "code",
   "execution_count": null,
   "metadata": {
    "id": "d9s5DtIj341b"
   },
   "outputs": [],
   "source": [
    "# Tulis code yang dibutuhkan disini\n",
    "..."
   ]
  },
  {
   "cell_type": "markdown",
   "metadata": {
    "id": "8AMOdHvR6YWk"
   },
   "source": [
    "### **Pertanyaan 3** - [3 point]\n",
    "- Melanjutkan **Pertanyaan 2**, jika setiap shift mingguan, tiap orang yang bekerja akan dibayarkan dengan insentif Rp 350.000.\n",
    "- Berapa insentif yang diterima imam di akhir rotasi?\n",
    "---"
   ]
  },
  {
   "cell_type": "code",
   "execution_count": null,
   "metadata": {
    "id": "7bI3P5nw7Gj2"
   },
   "outputs": [],
   "source": [
    "# Tulis code disini\n",
    "insentif_imam = ....\n",
    "\n",
    "print(f\"insentif yang diterima imam di akhir rotasi adalah Rp {insentif_imam}\")"
   ]
  },
  {
   "cell_type": "markdown",
   "metadata": {
    "id": "vUaYFrpcl9-w"
   },
   "source": [
    "---\n",
    "# **2. Probability Model and Axiom**\n",
    "> Total: 7 Pertanyaan"
   ]
  },
  {
   "cell_type": "markdown",
   "metadata": {
    "id": "xdFDZ9cFmHv-"
   },
   "source": [
    "## **Case: Popularitas Makanan**\n",
    "---\n",
    "\n",
    "- Anda adalah seorang pemilik warung makan nasi Tradisional yang ingin mengembangkan bisnis.\n",
    "- Untuk keperluan itu, Anda ingin mencari menu nasi yang memiliki peluang untuk lebih mudah terjual dari kepopuleran-nya (dari banyaknya orang yang membeli).\n",
    "- Untuk itu, Anda melakukan survey dari 50.000 menu nasi yang dipesan terakhir (data survey dibuat secara random)"
   ]
  },
  {
   "cell_type": "code",
   "execution_count": null,
   "metadata": {
    "id": "U4vMgBuAmBCk"
   },
   "outputs": [],
   "source": [
    "# Daftar menu nasi Tradisional\n",
    "menu_makanan = [\"Nasi Pecel\", \"Nasi Rawon\", \"Nasi Gule\",\n",
    "                \"Nasi Padang\", \"Nasi Ayam\", \"Nasi Gudeg\"]"
   ]
  },
  {
   "cell_type": "code",
   "execution_count": null,
   "metadata": {
    "id": "E7a86IJ-mVzH"
   },
   "outputs": [],
   "source": [
    "# CODE DIBAWAH INI JANGAN DIGANTI\n",
    "# Fungsi untuk membuat data popularitas menu makanan\n",
    "\n",
    "def random_survey_makanan(menu_makanan, jumlah_pesanan):\n",
    "    # agar output random sama\n",
    "    random.seed(1)\n",
    "\n",
    "    # mencari survey menu nasi yang dipesan secara random\n",
    "    hasil = []\n",
    "    for _ in range(jumlah_pesanan):\n",
    "        hasil.append(random.choice(menu_makanan))\n",
    "    data = pd.DataFrame({\"Menu Makanan\": hasil})\n",
    "\n",
    "    return data"
   ]
  },
  {
   "cell_type": "markdown",
   "metadata": {
    "id": "gRG5bjgwnj2Q"
   },
   "source": [
    "- Berikut adalah data 50.000 menu nasi yang dipesan terakhir"
   ]
  },
  {
   "cell_type": "code",
   "execution_count": null,
   "metadata": {
    "colab": {
     "base_uri": "https://localhost:8080/",
     "height": 424
    },
    "executionInfo": {
     "elapsed": 7,
     "status": "ok",
     "timestamp": 1658977336467,
     "user": {
      "displayName": "Pacmann Curriculum DS",
      "userId": "04407366163820713802"
     },
     "user_tz": -420
    },
    "id": "Xmspb-Zimcae",
    "outputId": "ddda7886-6907-4fe2-db7b-ec2b545f2279"
   },
   "outputs": [
    {
     "data": {
      "text/html": [
       "\n",
       "  <div id=\"df-ba483587-f3de-45ae-81e9-896cdfdaccd5\">\n",
       "    <div class=\"colab-df-container\">\n",
       "      <div>\n",
       "<style scoped>\n",
       "    .dataframe tbody tr th:only-of-type {\n",
       "        vertical-align: middle;\n",
       "    }\n",
       "\n",
       "    .dataframe tbody tr th {\n",
       "        vertical-align: top;\n",
       "    }\n",
       "\n",
       "    .dataframe thead th {\n",
       "        text-align: right;\n",
       "    }\n",
       "</style>\n",
       "<table border=\"1\" class=\"dataframe\">\n",
       "  <thead>\n",
       "    <tr style=\"text-align: right;\">\n",
       "      <th></th>\n",
       "      <th>Menu Makanan</th>\n",
       "    </tr>\n",
       "  </thead>\n",
       "  <tbody>\n",
       "    <tr>\n",
       "      <th>0</th>\n",
       "      <td>Nasi Rawon</td>\n",
       "    </tr>\n",
       "    <tr>\n",
       "      <th>1</th>\n",
       "      <td>Nasi Ayam</td>\n",
       "    </tr>\n",
       "    <tr>\n",
       "      <th>2</th>\n",
       "      <td>Nasi Pecel</td>\n",
       "    </tr>\n",
       "    <tr>\n",
       "      <th>3</th>\n",
       "      <td>Nasi Gule</td>\n",
       "    </tr>\n",
       "    <tr>\n",
       "      <th>4</th>\n",
       "      <td>Nasi Pecel</td>\n",
       "    </tr>\n",
       "    <tr>\n",
       "      <th>...</th>\n",
       "      <td>...</td>\n",
       "    </tr>\n",
       "    <tr>\n",
       "      <th>49995</th>\n",
       "      <td>Nasi Rawon</td>\n",
       "    </tr>\n",
       "    <tr>\n",
       "      <th>49996</th>\n",
       "      <td>Nasi Padang</td>\n",
       "    </tr>\n",
       "    <tr>\n",
       "      <th>49997</th>\n",
       "      <td>Nasi Padang</td>\n",
       "    </tr>\n",
       "    <tr>\n",
       "      <th>49998</th>\n",
       "      <td>Nasi Padang</td>\n",
       "    </tr>\n",
       "    <tr>\n",
       "      <th>49999</th>\n",
       "      <td>Nasi Ayam</td>\n",
       "    </tr>\n",
       "  </tbody>\n",
       "</table>\n",
       "<p>50000 rows × 1 columns</p>\n",
       "</div>\n",
       "      <button class=\"colab-df-convert\" onclick=\"convertToInteractive('df-ba483587-f3de-45ae-81e9-896cdfdaccd5')\"\n",
       "              title=\"Convert this dataframe to an interactive table.\"\n",
       "              style=\"display:none;\">\n",
       "        \n",
       "  <svg xmlns=\"http://www.w3.org/2000/svg\" height=\"24px\"viewBox=\"0 0 24 24\"\n",
       "       width=\"24px\">\n",
       "    <path d=\"M0 0h24v24H0V0z\" fill=\"none\"/>\n",
       "    <path d=\"M18.56 5.44l.94 2.06.94-2.06 2.06-.94-2.06-.94-.94-2.06-.94 2.06-2.06.94zm-11 1L8.5 8.5l.94-2.06 2.06-.94-2.06-.94L8.5 2.5l-.94 2.06-2.06.94zm10 10l.94 2.06.94-2.06 2.06-.94-2.06-.94-.94-2.06-.94 2.06-2.06.94z\"/><path d=\"M17.41 7.96l-1.37-1.37c-.4-.4-.92-.59-1.43-.59-.52 0-1.04.2-1.43.59L10.3 9.45l-7.72 7.72c-.78.78-.78 2.05 0 2.83L4 21.41c.39.39.9.59 1.41.59.51 0 1.02-.2 1.41-.59l7.78-7.78 2.81-2.81c.8-.78.8-2.07 0-2.86zM5.41 20L4 18.59l7.72-7.72 1.47 1.35L5.41 20z\"/>\n",
       "  </svg>\n",
       "      </button>\n",
       "      \n",
       "  <style>\n",
       "    .colab-df-container {\n",
       "      display:flex;\n",
       "      flex-wrap:wrap;\n",
       "      gap: 12px;\n",
       "    }\n",
       "\n",
       "    .colab-df-convert {\n",
       "      background-color: #E8F0FE;\n",
       "      border: none;\n",
       "      border-radius: 50%;\n",
       "      cursor: pointer;\n",
       "      display: none;\n",
       "      fill: #1967D2;\n",
       "      height: 32px;\n",
       "      padding: 0 0 0 0;\n",
       "      width: 32px;\n",
       "    }\n",
       "\n",
       "    .colab-df-convert:hover {\n",
       "      background-color: #E2EBFA;\n",
       "      box-shadow: 0px 1px 2px rgba(60, 64, 67, 0.3), 0px 1px 3px 1px rgba(60, 64, 67, 0.15);\n",
       "      fill: #174EA6;\n",
       "    }\n",
       "\n",
       "    [theme=dark] .colab-df-convert {\n",
       "      background-color: #3B4455;\n",
       "      fill: #D2E3FC;\n",
       "    }\n",
       "\n",
       "    [theme=dark] .colab-df-convert:hover {\n",
       "      background-color: #434B5C;\n",
       "      box-shadow: 0px 1px 3px 1px rgba(0, 0, 0, 0.15);\n",
       "      filter: drop-shadow(0px 1px 2px rgba(0, 0, 0, 0.3));\n",
       "      fill: #FFFFFF;\n",
       "    }\n",
       "  </style>\n",
       "\n",
       "      <script>\n",
       "        const buttonEl =\n",
       "          document.querySelector('#df-ba483587-f3de-45ae-81e9-896cdfdaccd5 button.colab-df-convert');\n",
       "        buttonEl.style.display =\n",
       "          google.colab.kernel.accessAllowed ? 'block' : 'none';\n",
       "\n",
       "        async function convertToInteractive(key) {\n",
       "          const element = document.querySelector('#df-ba483587-f3de-45ae-81e9-896cdfdaccd5');\n",
       "          const dataTable =\n",
       "            await google.colab.kernel.invokeFunction('convertToInteractive',\n",
       "                                                     [key], {});\n",
       "          if (!dataTable) return;\n",
       "\n",
       "          const docLinkHtml = 'Like what you see? Visit the ' +\n",
       "            '<a target=\"_blank\" href=https://colab.research.google.com/notebooks/data_table.ipynb>data table notebook</a>'\n",
       "            + ' to learn more about interactive tables.';\n",
       "          element.innerHTML = '';\n",
       "          dataTable['output_type'] = 'display_data';\n",
       "          await google.colab.output.renderOutput(dataTable, element);\n",
       "          const docLink = document.createElement('div');\n",
       "          docLink.innerHTML = docLinkHtml;\n",
       "          element.appendChild(docLink);\n",
       "        }\n",
       "      </script>\n",
       "    </div>\n",
       "  </div>\n",
       "  "
      ],
      "text/plain": [
       "      Menu Makanan\n",
       "0       Nasi Rawon\n",
       "1        Nasi Ayam\n",
       "2       Nasi Pecel\n",
       "3        Nasi Gule\n",
       "4       Nasi Pecel\n",
       "...            ...\n",
       "49995   Nasi Rawon\n",
       "49996  Nasi Padang\n",
       "49997  Nasi Padang\n",
       "49998  Nasi Padang\n",
       "49999    Nasi Ayam\n",
       "\n",
       "[50000 rows x 1 columns]"
      ]
     },
     "execution_count": 14,
     "metadata": {},
     "output_type": "execute_result"
    }
   ],
   "source": [
    "# Jalankan code ini\n",
    "data_makanan = random_survey_makanan(menu_makanan, jumlah_pesanan=50000)\n",
    "data_makanan"
   ]
  },
  {
   "cell_type": "markdown",
   "metadata": {
    "id": "U8fXPuQaoSRA"
   },
   "source": [
    "---\n",
    "**Pertanyaan**\n",
    "- Anda ingin mengetahui beberapa hal\n",
    "  1. Peluang dari menu makanan nasi Padang terjual\n",
    "  2. Peluang dari menu makanan nasi Gudeg **atau** nasi Ayam terjual\n",
    "  3. Peluang dari menu makanan **selain** nasi Gudeg, nasi Ayam, dan Nasi Padang terjual"
   ]
  },
  {
   "cell_type": "markdown",
   "metadata": {
    "id": "egW71G4Xos47"
   },
   "source": [
    "###**Untuk menjawab** peluang dari menu makanan **nasi Padang** terjual, $P(\\text{nasi Padang})$"
   ]
  },
  {
   "cell_type": "markdown",
   "metadata": {
    "id": "I01fGNRIpoiJ"
   },
   "source": [
    "---\n",
    "#### **Pertanyaan 1** - [1 point]\n",
    "Carilah ada berapa jumlah data menu makanan nasi Padang terjual?"
   ]
  },
  {
   "cell_type": "code",
   "execution_count": null,
   "metadata": {
    "id": "VGl9-pvBwyYC"
   },
   "outputs": [],
   "source": [
    "# Lengkapi Code berikut\n",
    "n_A = ...\n",
    "\n",
    "print(f\"Jumlah kejadian A (jumlah orang yang memesan menu Nasi Padang): {n_A}\")"
   ]
  },
  {
   "cell_type": "markdown",
   "metadata": {
    "id": "WdGSfnrlp6P4"
   },
   "source": [
    "---\n",
    "#### **Pertanyaan 2** - [2 point]\n",
    "Berapa nilai Probability dari menu Nasi Padang terjual?"
   ]
  },
  {
   "cell_type": "markdown",
   "metadata": {
    "id": "H1oUiTZwqJGj"
   },
   "source": [
    "<details>\n",
    "    <summary><b>Klik untuk melihat Hint 💡</b></summary>\n",
    "\n",
    "Jika lupa, bisa merujuk ke materi `Probability Model and Axiom - \"Event\"`!\n",
    "\n",
    "</details>\n",
    "\n",
    "---"
   ]
  },
  {
   "cell_type": "code",
   "execution_count": null,
   "metadata": {
    "id": "96oLZTxww92O"
   },
   "outputs": [],
   "source": [
    "# Lengkapi code berikut\n",
    "# p_A berisi probability dari menu nasi padang terjual\n",
    "p_A = ...\n",
    "\n",
    "print(f\"Nilai Probability dari menu Nasi Padang terjual adalah {p_A}\")"
   ]
  },
  {
   "cell_type": "markdown",
   "metadata": {
    "id": "w3Zl6jAQqnba"
   },
   "source": [
    "---\n",
    "###**Untuk menjawab** peluang dari menu makanan **nasi Gudeg** atau **nasi Ayam** terjual"
   ]
  },
  {
   "cell_type": "markdown",
   "metadata": {
    "id": "Y_q-chqExeFF"
   },
   "source": [
    "Asumsikan\n",
    "- $B := \\{ \\text{menu nasi Gudeg} \\}$\n",
    "- $C := \\{ \\text{menu nasi Ayam} \\}$"
   ]
  },
  {
   "cell_type": "markdown",
   "metadata": {
    "id": "ieT0AHhZzAM1"
   },
   "source": [
    "---\n",
    "#### **Pertanyaan 3** - [3 point]\n",
    "Berapa nilai Probability dari Popularitas menu makanan Nasi Gudeg atau Nasi Ayam?"
   ]
  },
  {
   "cell_type": "markdown",
   "metadata": {
    "id": "B13U_1Z4fsrt"
   },
   "source": [
    "<details>\n",
    "    <summary><b>Klik untuk melihat Hint #2 💡</b></summary>\n",
    "\n",
    "Jika lupa cara menghitungnya, bisa merujuk ke materi `Probability Model and Axiom - \"Axioms of Probability\"`\n",
    "</details>\n",
    "\n",
    "---"
   ]
  },
  {
   "cell_type": "code",
   "execution_count": null,
   "metadata": {
    "id": "iWLwGuni0E7M"
   },
   "outputs": [],
   "source": [
    "# Lengkapi Code Berikut\n",
    "# Probability event B (nasi Gudeg)\n",
    "p_B = ...\n",
    "\n",
    "# Probability event C (nasi Ayam)\n",
    "p_C = ...\n",
    "\n",
    "# Probability gabungannya (nasi Gudeg u nasi Ayam)\n",
    "p_B_union_C = ...\n",
    "\n",
    "# Tampilkan hasil\n",
    "print(f\"- Nilai Probability terjualnya menu Nasi Gudeg {p_B} dan Nasi Ayam {p_C}\")\n",
    "print(f\"- Jika dijumlahkan hasilnya adalah {p_B_union_C}\")"
   ]
  },
  {
   "cell_type": "markdown",
   "metadata": {
    "id": "QYqjr6JV0Zlf"
   },
   "source": [
    "---\n",
    "### **Untuk menjawab** Peluang dari menu makanan **selain** nasi Gudeg, nasi Ayam, dan Nasi Padang terjual"
   ]
  },
  {
   "cell_type": "markdown",
   "metadata": {
    "id": "C5FKwa9z0h3F"
   },
   "source": [
    "---\n",
    "#### **Pertanyaan 4** - [7 point]\n",
    "Berapa nilai Probability dari menu makanan selain `Nasi Gudeg`, `Nasi Ayam`, `Nasi Padang` terjual?"
   ]
  },
  {
   "cell_type": "markdown",
   "metadata": {
    "id": "DZarGWYi1Xf2"
   },
   "source": [
    "**Tulis penjelasan disini**"
   ]
  },
  {
   "cell_type": "code",
   "execution_count": null,
   "metadata": {
    "id": "CGbBuugH0o7s"
   },
   "outputs": [],
   "source": [
    "# Tulis perhitungan dengan code disini\n",
    "..."
   ]
  },
  {
   "cell_type": "markdown",
   "metadata": {
    "id": "njzLWlLo1gfz"
   },
   "source": [
    "## **Case: Menerka Hasil Pertandingan Sepak Bola**\n",
    "---\n",
    "\n",
    "- Diberikan data `hasil-pertandingan.csv` head to head pertandingan antara Pacmann FC melawan Valeria FC dari tahun 1950 s.d 2022\n",
    "- Dari masing - masing tahun akan mendapatkan hasil `Menang`, `Kalah`, atau `Seri`"
   ]
  },
  {
   "cell_type": "markdown",
   "metadata": {
    "id": "pKOIpR1W12Ra"
   },
   "source": [
    "**Pertanyaan**\n",
    "- Tentukan Probability kemenangan tim Pacmann FC dari tahun 1950 s.d 2022\n",
    "- Tentukan Probability kekalahan atau seri tim Pacmann FC dari tahun 1950 s.d 2022\n",
    "- Apabila Pacmann FC akan bertanding kembali di tahun 2023, kira-kira hasil apa yang akan didapatkan oleh Pacmann FC?"
   ]
  },
  {
   "cell_type": "markdown",
   "metadata": {
    "id": "4xpZtWgu2AA8"
   },
   "source": [
    "---\n",
    "**Load Data**"
   ]
  },
  {
   "cell_type": "code",
   "execution_count": null,
   "metadata": {
    "colab": {
     "base_uri": "https://localhost:8080/",
     "height": 206
    },
    "executionInfo": {
     "elapsed": 378,
     "status": "ok",
     "timestamp": 1658978925088,
     "user": {
      "displayName": "Pacmann Curriculum DS",
      "userId": "04407366163820713802"
     },
     "user_tz": -420
    },
    "id": "DcOoMWxw2Ifo",
    "outputId": "8e475233-ed73-431a-a939-96f9659f66b2"
   },
   "outputs": [
    {
     "data": {
      "text/html": [
       "\n",
       "  <div id=\"df-bbaf6494-d911-4e99-bc66-9b95b09dd935\">\n",
       "    <div class=\"colab-df-container\">\n",
       "      <div>\n",
       "<style scoped>\n",
       "    .dataframe tbody tr th:only-of-type {\n",
       "        vertical-align: middle;\n",
       "    }\n",
       "\n",
       "    .dataframe tbody tr th {\n",
       "        vertical-align: top;\n",
       "    }\n",
       "\n",
       "    .dataframe thead th {\n",
       "        text-align: right;\n",
       "    }\n",
       "</style>\n",
       "<table border=\"1\" class=\"dataframe\">\n",
       "  <thead>\n",
       "    <tr style=\"text-align: right;\">\n",
       "      <th></th>\n",
       "      <th>Tahun</th>\n",
       "      <th>Hasil</th>\n",
       "    </tr>\n",
       "  </thead>\n",
       "  <tbody>\n",
       "    <tr>\n",
       "      <th>0</th>\n",
       "      <td>1950</td>\n",
       "      <td>Menang</td>\n",
       "    </tr>\n",
       "    <tr>\n",
       "      <th>1</th>\n",
       "      <td>1951</td>\n",
       "      <td>Menang</td>\n",
       "    </tr>\n",
       "    <tr>\n",
       "      <th>2</th>\n",
       "      <td>1952</td>\n",
       "      <td>Seri</td>\n",
       "    </tr>\n",
       "    <tr>\n",
       "      <th>3</th>\n",
       "      <td>1953</td>\n",
       "      <td>Kalah</td>\n",
       "    </tr>\n",
       "    <tr>\n",
       "      <th>4</th>\n",
       "      <td>1954</td>\n",
       "      <td>Menang</td>\n",
       "    </tr>\n",
       "  </tbody>\n",
       "</table>\n",
       "</div>\n",
       "      <button class=\"colab-df-convert\" onclick=\"convertToInteractive('df-bbaf6494-d911-4e99-bc66-9b95b09dd935')\"\n",
       "              title=\"Convert this dataframe to an interactive table.\"\n",
       "              style=\"display:none;\">\n",
       "        \n",
       "  <svg xmlns=\"http://www.w3.org/2000/svg\" height=\"24px\"viewBox=\"0 0 24 24\"\n",
       "       width=\"24px\">\n",
       "    <path d=\"M0 0h24v24H0V0z\" fill=\"none\"/>\n",
       "    <path d=\"M18.56 5.44l.94 2.06.94-2.06 2.06-.94-2.06-.94-.94-2.06-.94 2.06-2.06.94zm-11 1L8.5 8.5l.94-2.06 2.06-.94-2.06-.94L8.5 2.5l-.94 2.06-2.06.94zm10 10l.94 2.06.94-2.06 2.06-.94-2.06-.94-.94-2.06-.94 2.06-2.06.94z\"/><path d=\"M17.41 7.96l-1.37-1.37c-.4-.4-.92-.59-1.43-.59-.52 0-1.04.2-1.43.59L10.3 9.45l-7.72 7.72c-.78.78-.78 2.05 0 2.83L4 21.41c.39.39.9.59 1.41.59.51 0 1.02-.2 1.41-.59l7.78-7.78 2.81-2.81c.8-.78.8-2.07 0-2.86zM5.41 20L4 18.59l7.72-7.72 1.47 1.35L5.41 20z\"/>\n",
       "  </svg>\n",
       "      </button>\n",
       "      \n",
       "  <style>\n",
       "    .colab-df-container {\n",
       "      display:flex;\n",
       "      flex-wrap:wrap;\n",
       "      gap: 12px;\n",
       "    }\n",
       "\n",
       "    .colab-df-convert {\n",
       "      background-color: #E8F0FE;\n",
       "      border: none;\n",
       "      border-radius: 50%;\n",
       "      cursor: pointer;\n",
       "      display: none;\n",
       "      fill: #1967D2;\n",
       "      height: 32px;\n",
       "      padding: 0 0 0 0;\n",
       "      width: 32px;\n",
       "    }\n",
       "\n",
       "    .colab-df-convert:hover {\n",
       "      background-color: #E2EBFA;\n",
       "      box-shadow: 0px 1px 2px rgba(60, 64, 67, 0.3), 0px 1px 3px 1px rgba(60, 64, 67, 0.15);\n",
       "      fill: #174EA6;\n",
       "    }\n",
       "\n",
       "    [theme=dark] .colab-df-convert {\n",
       "      background-color: #3B4455;\n",
       "      fill: #D2E3FC;\n",
       "    }\n",
       "\n",
       "    [theme=dark] .colab-df-convert:hover {\n",
       "      background-color: #434B5C;\n",
       "      box-shadow: 0px 1px 3px 1px rgba(0, 0, 0, 0.15);\n",
       "      filter: drop-shadow(0px 1px 2px rgba(0, 0, 0, 0.3));\n",
       "      fill: #FFFFFF;\n",
       "    }\n",
       "  </style>\n",
       "\n",
       "      <script>\n",
       "        const buttonEl =\n",
       "          document.querySelector('#df-bbaf6494-d911-4e99-bc66-9b95b09dd935 button.colab-df-convert');\n",
       "        buttonEl.style.display =\n",
       "          google.colab.kernel.accessAllowed ? 'block' : 'none';\n",
       "\n",
       "        async function convertToInteractive(key) {\n",
       "          const element = document.querySelector('#df-bbaf6494-d911-4e99-bc66-9b95b09dd935');\n",
       "          const dataTable =\n",
       "            await google.colab.kernel.invokeFunction('convertToInteractive',\n",
       "                                                     [key], {});\n",
       "          if (!dataTable) return;\n",
       "\n",
       "          const docLinkHtml = 'Like what you see? Visit the ' +\n",
       "            '<a target=\"_blank\" href=https://colab.research.google.com/notebooks/data_table.ipynb>data table notebook</a>'\n",
       "            + ' to learn more about interactive tables.';\n",
       "          element.innerHTML = '';\n",
       "          dataTable['output_type'] = 'display_data';\n",
       "          await google.colab.output.renderOutput(dataTable, element);\n",
       "          const docLink = document.createElement('div');\n",
       "          docLink.innerHTML = docLinkHtml;\n",
       "          element.appendChild(docLink);\n",
       "        }\n",
       "      </script>\n",
       "    </div>\n",
       "  </div>\n",
       "  "
      ],
      "text/plain": [
       "   Tahun   Hasil\n",
       "0   1950  Menang\n",
       "1   1951  Menang\n",
       "2   1952    Seri\n",
       "3   1953   Kalah\n",
       "4   1954  Menang"
      ]
     },
     "execution_count": 33,
     "metadata": {},
     "output_type": "execute_result"
    }
   ],
   "source": [
    "data_pertandingan = pd.read_csv(\"hasil-pertandingan.csv\")\n",
    "data_pertandingan.head()\n",
    "\n",
    "# Nama dataset adalah data_pertandingan"
   ]
  },
  {
   "cell_type": "markdown",
   "metadata": {
    "id": "8RzcGLFM2eYv"
   },
   "source": [
    "---\n",
    "#### **Pertanyaan 1** - [4 point]\n",
    "Tentukan probability kemenangan tim Pacmann FC"
   ]
  },
  {
   "cell_type": "code",
   "execution_count": null,
   "metadata": {
    "id": "zBnilbnT2eYw"
   },
   "outputs": [],
   "source": [
    "# Silahkan tulis code anda disini\n",
    "..."
   ]
  },
  {
   "cell_type": "markdown",
   "metadata": {
    "id": "0mKmAdE72fVd"
   },
   "source": [
    "---\n",
    "#### **Pertanyaan 2** - [8 point]\n",
    "Tentukan probability Tim Pacmann FC kalah atau seri"
   ]
  },
  {
   "cell_type": "code",
   "execution_count": null,
   "metadata": {
    "id": "JF_g8uvE29GG"
   },
   "outputs": [],
   "source": [
    "# Silahkan tulis code anda disini\n",
    "..."
   ]
  },
  {
   "cell_type": "markdown",
   "metadata": {
    "id": "7_Af3HeP2f2i"
   },
   "source": [
    "---\n",
    "#### **Pertanyaan 3** - [2 point]\n",
    "Apabila Pacmann FC akan bertanding kembali di tahun 2023, kira-kira hasil apa yang akan didapatkan oleh Pacmann FC?"
   ]
  },
  {
   "cell_type": "code",
   "execution_count": null,
   "metadata": {
    "id": "1QeR1riF2f2k"
   },
   "outputs": [],
   "source": [
    "jawaban = \"\"\"\n",
    "- Tulis jawaban disini\n",
    "- Dalam bentuk poin-poin\n",
    "- Poin A\n",
    "- Poin B\n",
    "- Kemudian jalankan cell-nya\n",
    "\"\"\"\n",
    "\n",
    "print(jawaban)"
   ]
  },
  {
   "cell_type": "markdown",
   "metadata": {
    "id": "hXYCVcnZvEG8"
   },
   "source": [
    "---\n",
    "# **3. Conditional Probability**\n",
    "> Total: 5 Pertanyaan, 35 point"
   ]
  },
  {
   "cell_type": "markdown",
   "metadata": {
    "id": "vuDAmIMjJCmJ"
   },
   "source": [
    "## **Case**: Survey Lalu-lintas Perkotaan\n",
    "> 2 pertanyaan, 14 point\n",
    "---\n",
    "- Case untuk **memahami kondisi keamanan lalu lintas** di suatu kota\n",
    "- Dirangkum lewat survey yang dilakukan ke 10.000 pengemudi di suatu kota selama 5 tahun.\n",
    "- Berisi informasi kelompok usia & jumlah kecelakaan yang terjadi."
   ]
  },
  {
   "cell_type": "markdown",
   "metadata": {
    "id": "43SRORtmajuE"
   },
   "source": [
    "Berikut adalah hasil survey-nya"
   ]
  },
  {
   "cell_type": "markdown",
   "metadata": {
    "id": "7XmxbgYwa0PY"
   },
   "source": [
    "|**Kelompok Usia**|18-25|26-39|40-55|55+|\n",
    "|:--:|:--:|:--:|:--:|:--:|\n",
    "|0-1 Kecelakaan|1.000|1.500|2.500|750|\n",
    "|2-3 Kecelakaan|1.500|250|1.250|250|\n",
    "|3+ Kecelakaan|500|250|250|0|"
   ]
  },
  {
   "cell_type": "markdown",
   "metadata": {
    "id": "Iosy6Fq7bpXD"
   },
   "source": [
    "---\n",
    "Misal, kita **memilih secara acak seorang pengemudi** dalam suatu kelompok usia,"
   ]
  },
  {
   "cell_type": "markdown",
   "metadata": {
    "id": "VVpazz76beHf"
   },
   "source": [
    "### **Pertanyaan 1** - [5 point]\n",
    "Berapa peluang pengemudi mengalami 2-3 kecelakaan jika diketahui pengemudi tersebut ada dalam kelompok usia 18-25 tahun?\n",
    "\n",
    "---"
   ]
  },
  {
   "cell_type": "markdown",
   "metadata": {
    "id": "9wQwbF8xk3lI"
   },
   "source": [
    "- Kita tau yang ditanya adalah $P(\\text{2-3 kecelakaan} \\ | \\ \\text{18-25 tahun})$\n",
    "- Maka, kita bisa menjawab ini dengan conditional probability\n",
    "\n",
    "$$\n",
    "\\begin{align*}\n",
    "P(\\text{2-3 kecelakaan} \\ | \\ \\text{18-25 tahun}) &= \\cfrac{n(\\text{2-3 kecelakaan} \\cap \\text{18-25 tahun})}{n(\\text{18-25 tahun})}\n",
    "\\end{align*}\n",
    "$$\n",
    "\n",
    "- Langsung saja kita cari jawabannya dengan Python\n",
    "  - Kita sebut $A := \\{ \\text{2-3 kecelakaan} \\}$\n",
    "  - Kita sebut $B := \\{ \\text{18-25 tahun} \\}$\n",
    "  - Maka\n",
    "\n",
    "$$\n",
    "\\begin{align*}\n",
    "P(\\text{2-3 kecelakaan} \\ | \\ \\text{18-25 tahun}) &= \\cfrac{n(\\text{2-3 kecelakaan} \\cap \\text{18-25 tahun})}{n(\\text{18-25 tahun})} \\\\\n",
    "P(A \\ | \\ B) &= \\cfrac{n(A \\cap B)}{n(B)}\n",
    "\\end{align*}\n",
    "$$"
   ]
  },
  {
   "cell_type": "code",
   "execution_count": null,
   "metadata": {
    "id": "yUC1DA96Es0Y"
   },
   "outputs": [],
   "source": [
    "# Langkah 1 - Cari jumlah kejadian - [2 point]\n",
    "# Dari data\n",
    "n_A_dan_B = ...\n",
    "n_B = ...\n",
    "\n",
    "print(n_A_dan_B)\n",
    "print(n_B)"
   ]
  },
  {
   "cell_type": "code",
   "execution_count": null,
   "metadata": {
    "id": "h0UOEwL2Ex9h"
   },
   "outputs": [],
   "source": [
    "# Langkah 2 - Cari peluangnya - [3 point]\n",
    "p_A_dan_B = ...\n",
    "\n",
    "print(f\"peluang pengemudi mengalami 2-3 kecelakaan jika diketahui pengemudi tersebut usianya antara 18-25 tahun adalah {p_A_dan_B:.2f}\")"
   ]
  },
  {
   "cell_type": "markdown",
   "metadata": {
    "id": "jYjpRFRpmdrK"
   },
   "source": [
    "### **Pertanyaan 2** - [9 point]\n",
    "Berapa peluang pengemudi mengalami kurang dari 2 kecelakaan jika diketahui pengemudi tersebut ada dalam kelompok usia 26-39 tahun?\n",
    "\n",
    "---"
   ]
  },
  {
   "cell_type": "markdown",
   "metadata": {
    "id": "1l22CQDMrDNB"
   },
   "source": [
    "Anggap:\n",
    "  - Kita sebut $A := \\{ \\text{0-1 kecelakaan} \\}$\n",
    "  - Kita sebut $B := \\{ \\text{26-39 tahun} \\}$"
   ]
  },
  {
   "cell_type": "markdown",
   "metadata": {
    "id": "mDaz_Tgbx7d2"
   },
   "source": [
    "**Jelaskan proses menjawabnya pada cell ini**\n",
    "\n",
    "Menjelaskan proses akan mendapatkan 5 point"
   ]
  },
  {
   "cell_type": "code",
   "execution_count": null,
   "metadata": {
    "id": "ewAdekSqrB4F"
   },
   "outputs": [],
   "source": [
    "# menjawab ini dengan benar mendapat 4 point\n",
    "# Buat code untuk menghitung probability-nya disini\n",
    "...\n",
    "\n",
    "# Cari peluangnya dan masukkan nilainya dalam variable\n",
    "p_A_dan_B = ...\n",
    "\n",
    "print(f\"peluang pengemudi mengalami kurang dari 2 kecelakaan jika diketahui pengemudi tersebut usianya antara 26-39 tahun adalah {p_A_dan_B:.2f}\")"
   ]
  },
  {
   "cell_type": "markdown",
   "metadata": {
    "id": "C5om2-ASyTeU"
   },
   "source": [
    "## **Case**: Survey Product Software Business Intelligence (BI)\n",
    "> 3 pertanyaan, 21 point\n",
    "---\n",
    "- Case untuk **memahami produk Software BI**, Anda melakukan survey untuk mendapatkan feedback pada software BI yang telah di launch.\n",
    "- Survey ini fokus untuk memeriksa 2 hal:\n",
    "  - Apakah ingin memperpanjang penggunaan produk?\n",
    "  - Apakah ingin merekomendasikan produk ke orang lain?\n",
    "\n",
    "- Anda ingin memeriksa kondisi produk Software BI yang telah dibuat"
   ]
  },
  {
   "cell_type": "markdown",
   "metadata": {
    "id": "JP2ohpDtyt0a"
   },
   "source": [
    "- Berikut adalah hasil survey-nya"
   ]
  },
  {
   "cell_type": "code",
   "execution_count": null,
   "metadata": {
    "id": "lGCSvaSu3tq1"
   },
   "outputs": [],
   "source": [
    "# Jalankan code ini\n",
    "# CATATAN: CODE DIBAWAH INI JANGAN DIGANTI\n",
    "def generate_random_survey(jumlah_peserta_survey):\n",
    "    random.seed(1)\n",
    "    \n",
    "    hasil_survey = []\n",
    "    for _ in range(jumlah_peserta_survey):\n",
    "        if random.random() > 0.75:\n",
    "            ingin_memperpanjang = \"ya\"\n",
    "        else:\n",
    "            ingin_memperpanjang = \"tidak\"\n",
    "\n",
    "        if random.random() > 0.3:\n",
    "            ingin_merekomendasikan = \"ya\"\n",
    "        else:\n",
    "            ingin_merekomendasikan = \"tidak\"\n",
    "        \n",
    "        hasil_survey.append([ingin_memperpanjang, ingin_merekomendasikan])\n",
    "\n",
    "    hasil_survey = pd.DataFrame(data=hasil_survey,\n",
    "                                columns={\"ingin memperpanjang penggunaan\",\n",
    "                                 \"ingin merekomendasikan produk\"})\n",
    "    \n",
    "    n_memperpanjang_and_merekomendasikan = len(hasil_survey[(hasil_survey[\"ingin memperpanjang penggunaan\"]==\"ya\") \n",
    "                                                             & (hasil_survey[\"ingin merekomendasikan produk\"]==\"ya\")])\n",
    "    \n",
    "    n_memperpanjang_and_tidak_merekomendasikan = len(hasil_survey[(hasil_survey[\"ingin memperpanjang penggunaan\"]==\"ya\") \n",
    "                                                             & (hasil_survey[\"ingin merekomendasikan produk\"]==\"tidak\")])\n",
    "    \n",
    "    n_tidak_memperpanjang_and_merekomendasikan = len(hasil_survey[(hasil_survey[\"ingin memperpanjang penggunaan\"]==\"tidak\") \n",
    "                                                             & (hasil_survey[\"ingin merekomendasikan produk\"]==\"ya\")])\n",
    "    \n",
    "    n_tidak_memperpanjang_and_tidak_merekomendasikan = len(hasil_survey[(hasil_survey[\"ingin memperpanjang penggunaan\"]==\"tidak\") \n",
    "                                                             & (hasil_survey[\"ingin merekomendasikan produk\"]==\"tidak\")])\n",
    "    \n",
    "    headers = [\"Hasil Survey\", \"merekomendasikan\", \"tidak merekomendasikan\"]\n",
    "    data = [[\"memperpanjang\", n_memperpanjang_and_merekomendasikan, n_memperpanjang_and_tidak_merekomendasikan],\n",
    "            [\"tidak memperpanjang\", n_tidak_memperpanjang_and_merekomendasikan, n_tidak_memperpanjang_and_tidak_merekomendasikan]]\n",
    "\n",
    "    print(tabulate(data, headers=headers))"
   ]
  },
  {
   "cell_type": "markdown",
   "metadata": {
    "id": "TF6kaYm_yQoO"
   },
   "source": [
    "### **Pertanyaan 3** - [4 point]\n",
    "- Jika dilakukan survey ke **10.000** orang, \n",
    "- Berapa peluang seorang **merekomendasikan produk** jika diketahui **memperpanjang penggunaan**?\n",
    "\n",
    "---"
   ]
  },
  {
   "cell_type": "code",
   "execution_count": null,
   "metadata": {
    "id": "unz_Lee0E9jQ"
   },
   "outputs": [],
   "source": [
    "# Langkah 1 - [1 point]\n",
    "# Tulis jumlah yang disurvey\n",
    "n_survey = ...\n",
    "\n",
    "print(n_survey)"
   ]
  },
  {
   "cell_type": "code",
   "execution_count": null,
   "metadata": {
    "id": "FileXhfxFC8Y"
   },
   "outputs": [],
   "source": [
    "# Langkah 2 - [1 point]\n",
    "# Generate hasil survey dengan memanggil fungsi-nya\n",
    "generate_random_survey(jumlah_peserta_survey=...)"
   ]
  },
  {
   "cell_type": "code",
   "execution_count": null,
   "metadata": {
    "id": "m_C5h9wrFMqb"
   },
   "outputs": [],
   "source": [
    "# Langkah 3 - [2 point]\n",
    "# Hitung probability yang dimaksud\n",
    "n_merekomendasikan_dan_memperpanjang = ...\n",
    "n_memperpanjang = ...\n",
    "\n",
    "p = n_merekomendasikan_dan_memperpanjang / n_memperpanjang\n",
    "print(f\"peluangnya adalah : {p:.2f}\")"
   ]
  },
  {
   "cell_type": "markdown",
   "metadata": {
    "id": "KbPMkZVgEHCV"
   },
   "source": [
    "### **Pertanyaan 4** - [9 point]\n",
    "- Jika dilakukan survey ke **1.500.000** orang, \n",
    "- Berapa peluang seorang **merekomendasikan produk** jika diketahui **tidak memperpanjang penggunaan**?\n",
    "\n",
    "---"
   ]
  },
  {
   "cell_type": "code",
   "execution_count": null,
   "metadata": {
    "id": "mMqaN3XyGZO6"
   },
   "outputs": [],
   "source": [
    "# Buat code untuk menghitung probability-nya disini\n",
    "...\n",
    "\n",
    "# Cari peluangnya dan masukkan nilainya dalam variable\n",
    "p = ...\n",
    "\n",
    "print(f\"peluang orang merekomendasikan produk jika diketahui tidak memperpanjang penggunaan adalah {p:.2f}\")"
   ]
  },
  {
   "cell_type": "markdown",
   "metadata": {
    "id": "e3hNH4S-EbS2"
   },
   "source": [
    "### **Pertanyaan 5** - [8 point]\n",
    "- Berdasarkan 2 informasi di atas, apakah ada potensi masalah yang muncul dari software BI tersebut?\n",
    "\n",
    "---"
   ]
  },
  {
   "cell_type": "code",
   "execution_count": null,
   "metadata": {
    "id": "hUPDyA22EYy1"
   },
   "outputs": [],
   "source": [
    "jawaban = \"\"\"\n",
    "# Tulis analisa anda disini dalam bentuk point, contoh:\n",
    "- poin 1\n",
    "- poin 2\n",
    "\"\"\"\n",
    "\n",
    "print(jawaban)"
   ]
  }
 ],
 "metadata": {
  "colab": {
   "collapsed_sections": [],
   "provenance": [],
   "toc_visible": true
  },
  "kernelspec": {
   "display_name": "Python (pacmann)",
   "language": "python",
   "name": "pacmann"
  },
  "language_info": {
   "codemirror_mode": {
    "name": "ipython",
    "version": 3
   },
   "file_extension": ".py",
   "mimetype": "text/x-python",
   "name": "python",
   "nbconvert_exporter": "python",
   "pygments_lexer": "ipython3",
   "version": "3.12.3"
  }
 },
 "nbformat": 4,
 "nbformat_minor": 4
}
