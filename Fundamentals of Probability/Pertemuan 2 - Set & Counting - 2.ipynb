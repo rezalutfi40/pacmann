{
 "cells": [
  {
   "cell_type": "markdown",
   "id": "03153266-9f81-4437-a959-1d46e0f036ca",
   "metadata": {},
   "source": [
    "# **Pertemuan 2 - Set and Counting**"
   ]
  },
  {
   "cell_type": "markdown",
   "id": "9451bdd5-44d0-4f60-8326-adb927d71ae8",
   "metadata": {},
   "source": [
    "Introduction to Probability Course"
   ]
  },
  {
   "cell_type": "markdown",
   "id": "17b33de5-feb3-476f-a038-e330a82e7035",
   "metadata": {},
   "source": [
    "## **Kombinatorik**"
   ]
  },
  {
   "cell_type": "markdown",
   "id": "e2dec493-859c-4088-ace2-2243ca68cc31",
   "metadata": {},
   "source": [
    "Dalam pembuatan sebuah set, terkadang diperlukan pengolahan terlebih dahulu. Misal, \n",
    "- Menghitung kobinasi cara pemasangan pakaian\n",
    "- Kombinasi penarikan kartu\n",
    "- Ada berapa kali cara 3 kejadian sukses (barang defect, customer churn) dalam 5 observasi?\n",
    "\n",
    "Dalam kombinatorik, digunakan 2 metode dasar untuk menjawab pertanyaan tersebut: \n",
    "- Permutasi\n",
    "- Kombinasi"
   ]
  },
  {
   "cell_type": "markdown",
   "id": "da3efff5-ca70-4cae-88ab-15ad0c69ef88",
   "metadata": {},
   "source": [
    "### **Permutasi**"
   ]
  },
  {
   "cell_type": "markdown",
   "id": "be550418-5365-4da7-ac8a-49866372323b",
   "metadata": {},
   "source": [
    "Permutasi adalah cara penyusunan dengan urutan pada suatu kumpulan objek\n",
    "- Misalkan kita memiliki 4 objek huruf {A,H,L,O}\n",
    "- Jika 4 huruf ini disusun, maka dapat terbentuk:\n",
    "  - AHLO\n",
    "  - HALO\n",
    "  - OLAH\n",
    "  - HOLA\n",
    "  - dll"
   ]
  },
  {
   "cell_type": "code",
   "execution_count": 3,
   "id": "e04d91e8-2ef1-4ccf-be6a-99cb20c8edbc",
   "metadata": {},
   "outputs": [
    {
     "ename": "NameError",
     "evalue": "name 'Image' is not defined",
     "output_type": "error",
     "traceback": [
      "\u001b[1;31m---------------------------------------------------------------------------\u001b[0m",
      "\u001b[1;31mNameError\u001b[0m                                 Traceback (most recent call last)",
      "Cell \u001b[1;32mIn[3], line 1\u001b[0m\n\u001b[1;32m----> 1\u001b[0m \u001b[43mImage\u001b[49m(\u001b[38;5;124m\"\u001b[39m\u001b[38;5;124mfile/permutasi.png\u001b[39m\u001b[38;5;124m\"\u001b[39m)\n",
      "\u001b[1;31mNameError\u001b[0m: name 'Image' is not defined"
     ]
    }
   ],
   "source": [
    "Image(\"file/permutasi.png\")"
   ]
  },
  {
   "cell_type": "markdown",
   "id": "a6a89d31-67ab-4de8-be4f-c5e5195a9e8c",
   "metadata": {},
   "source": [
    "Sehingga, secara matematik dapat diekspresikan sebagai: \n",
    "<center>$n(n-1)(n-2) = n!$</center>"
   ]
  },
  {
   "cell_type": "code",
   "execution_count": null,
   "id": "6c96590b-6192-4bb4-8095-6a2b55b2b1bf",
   "metadata": {},
   "outputs": [],
   "source": []
  }
 ],
 "metadata": {
  "kernelspec": {
   "display_name": "Python (pacmann)",
   "language": "python",
   "name": "pacmann"
  },
  "language_info": {
   "codemirror_mode": {
    "name": "ipython",
    "version": 3
   },
   "file_extension": ".py",
   "mimetype": "text/x-python",
   "name": "python",
   "nbconvert_exporter": "python",
   "pygments_lexer": "ipython3",
   "version": "3.12.3"
  }
 },
 "nbformat": 4,
 "nbformat_minor": 5
}
