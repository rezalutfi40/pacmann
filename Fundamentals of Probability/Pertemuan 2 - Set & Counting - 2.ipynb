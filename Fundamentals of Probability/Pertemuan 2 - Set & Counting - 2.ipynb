{
 "cells": [
  {
   "cell_type": "markdown",
   "id": "03153266-9f81-4437-a959-1d46e0f036ca",
   "metadata": {},
   "source": [
    "# **Pertemuan 2 - Set and Counting**"
   ]
  },
  {
   "cell_type": "markdown",
   "id": "9451bdd5-44d0-4f60-8326-adb927d71ae8",
   "metadata": {},
   "source": [
    "Introduction to Probability Course"
   ]
  },
  {
   "cell_type": "markdown",
   "id": "17b33de5-feb3-476f-a038-e330a82e7035",
   "metadata": {},
   "source": [
    "## **Kombinatorik**"
   ]
  },
  {
   "cell_type": "markdown",
   "id": "e2dec493-859c-4088-ace2-2243ca68cc31",
   "metadata": {},
   "source": [
    "Dalam pembuatan sebuah set, terkadang diperlukan pengolahan terlebih dahulu. Misal, \n",
    "- Menghitung kobinasi cara pemasangan pakaian\n",
    "- Kombinasi penarikan kartu\n",
    "- Ada berapa kali cara 3 kejadian sukses (barang defect, customer churn) dalam 5 observasi?\n",
    "\n",
    "Dalam kombinatorik, digunakan 2 metode dasar untuk menjawab pertanyaan tersebut: \n",
    "- Permutasi\n",
    "- Kombinasi"
   ]
  },
  {
   "cell_type": "markdown",
   "id": "da3efff5-ca70-4cae-88ab-15ad0c69ef88",
   "metadata": {},
   "source": [
    "### **Permutasi**"
   ]
  },
  {
   "cell_type": "markdown",
   "id": "be550418-5365-4da7-ac8a-49866372323b",
   "metadata": {},
   "source": [
    "Permutasi adalah cara penyusunan dengan urutan pada suatu kumpulan objek\n",
    "- Misalkan kita memiliki 4 objek huruf {A,H,L,O}\n",
    "- Jika 4 huruf ini disusun, maka dapat terbentuk:\n",
    "  - AHLO\n",
    "  - HALO\n",
    "  - OLAH\n",
    "  - HOLA\n",
    "  - dll"
   ]
  },
  {
   "cell_type": "code",
   "execution_count": 26,
   "id": "e04d91e8-2ef1-4ccf-be6a-99cb20c8edbc",
   "metadata": {},
   "outputs": [
    {
     "data": {
      "image/png": "[encoded data removed]",
      "text/plain": [
       "<PIL.PngImagePlugin.PngImageFile image mode=RGBA size=550x171>"
      ]
     },
     "execution_count": 26,
     "metadata": {},
     "output_type": "execute_result"
    }
   ],
   "source": [
    "Image.open(\"file/permutasi.png\")"
   ]
  },
  {
   "cell_type": "markdown",
   "id": "a6a89d31-67ab-4de8-be4f-c5e5195a9e8c",
   "metadata": {},
   "source": [
    "Sehingga, secara matematik dapat diekspresikan sebagai: \n",
    "\n",
    "$n(n-1)(n-2) = n!$"
   ]
  },
  {
   "cell_type": "markdown",
   "id": "6463445a",
   "metadata": {},
   "source": [
    "Dalam Python:"
   ]
  },
  {
   "cell_type": "code",
   "execution_count": 1,
   "id": "6c96590b-6192-4bb4-8095-6a2b55b2b1bf",
   "metadata": {},
   "outputs": [],
   "source": [
    "from itertools import permutations"
   ]
  },
  {
   "cell_type": "code",
   "execution_count": 2,
   "id": "6427f70c",
   "metadata": {},
   "outputs": [],
   "source": [
    "huruf = {'A', 'H', 'L', 'O'}"
   ]
  },
  {
   "cell_type": "code",
   "execution_count": 27,
   "id": "e356cf09",
   "metadata": {},
   "outputs": [],
   "source": [
    "perm = permutations(huruf)"
   ]
  },
  {
   "cell_type": "code",
   "execution_count": 28,
   "id": "96af981c",
   "metadata": {},
   "outputs": [
    {
     "name": "stdout",
     "output_type": "stream",
     "text": [
      "('L', 'A', 'O', 'H')\n",
      "('L', 'A', 'H', 'O')\n",
      "('L', 'O', 'A', 'H')\n",
      "('L', 'O', 'H', 'A')\n",
      "('L', 'H', 'A', 'O')\n",
      "('L', 'H', 'O', 'A')\n",
      "('A', 'L', 'O', 'H')\n",
      "('A', 'L', 'H', 'O')\n",
      "('A', 'O', 'L', 'H')\n",
      "('A', 'O', 'H', 'L')\n",
      "('A', 'H', 'L', 'O')\n",
      "('A', 'H', 'O', 'L')\n",
      "('O', 'L', 'A', 'H')\n",
      "('O', 'L', 'H', 'A')\n",
      "('O', 'A', 'L', 'H')\n",
      "('O', 'A', 'H', 'L')\n",
      "('O', 'H', 'L', 'A')\n",
      "('O', 'H', 'A', 'L')\n",
      "('H', 'L', 'A', 'O')\n",
      "('H', 'L', 'O', 'A')\n",
      "('H', 'A', 'L', 'O')\n",
      "('H', 'A', 'O', 'L')\n",
      "('H', 'O', 'L', 'A')\n",
      "('H', 'O', 'A', 'L')\n"
     ]
    }
   ],
   "source": [
    "for i in list(perm):\n",
    "    print(i)"
   ]
  },
  {
   "cell_type": "code",
   "execution_count": 23,
   "id": "04395cc1",
   "metadata": {},
   "outputs": [],
   "source": [
    "from PIL import Image"
   ]
  },
  {
   "cell_type": "code",
   "execution_count": 25,
   "id": "f24a9bd5",
   "metadata": {},
   "outputs": [
    {
     "data": {
      "image/png": "[encoded data removed]",
      "text/plain": [
       "<PIL.PngImagePlugin.PngImageFile image mode=RGBA size=244x148>"
      ]
     },
     "execution_count": 25,
     "metadata": {},
     "output_type": "execute_result"
    }
   ],
   "source": [
    "Image.open(\"file/permutation.png\")"
   ]
  },
  {
   "cell_type": "code",
   "execution_count": 30,
   "id": "a52a34b0",
   "metadata": {},
   "outputs": [
    {
     "data": {
      "image/png": "[encoded data removed]",
      "text/plain": [
       "<PIL.PngImagePlugin.PngImageFile image mode=RGBA size=118x83>"
      ]
     },
     "execution_count": 30,
     "metadata": {},
     "output_type": "execute_result"
    }
   ],
   "source": [
    "Image.open(\"file/rumus kombinasi.png\")"
   ]
  },
  {
   "cell_type": "code",
   "execution_count": 31,
   "id": "3c418a09",
   "metadata": {},
   "outputs": [],
   "source": [
    "k = 2\n",
    "perm_k = permutations(huruf, k)"
   ]
  },
  {
   "cell_type": "code",
   "execution_count": 33,
   "id": "a9c40b84",
   "metadata": {},
   "outputs": [
    {
     "name": "stdout",
     "output_type": "stream",
     "text": [
      "('L', 'A')\n",
      "('L', 'O')\n",
      "('L', 'H')\n",
      "('A', 'L')\n",
      "('A', 'O')\n",
      "('A', 'H')\n",
      "('O', 'L')\n",
      "('O', 'A')\n",
      "('O', 'H')\n",
      "('H', 'L')\n",
      "('H', 'A')\n",
      "('H', 'O')\n"
     ]
    }
   ],
   "source": [
    "for i in list(perm_k):\n",
    "    print(i)"
   ]
  },
  {
   "cell_type": "markdown",
   "id": "be07366d",
   "metadata": {},
   "source": [
    "## Kombinasi"
   ]
  },
  {
   "cell_type": "markdown",
   "id": "aa2949cc",
   "metadata": {},
   "source": [
    "- Banyaknya subset yang dapat dibentuk dari suatu set awal\n",
    "- Misal, anda memiliki 3 teman (Joko, Budi, Seno)\n",
    "- Namun, anda hanya bisa mengajak 2 dari mereka untuk naik mobil anda\n",
    "- Kombinasi yang mungkin adalah:\n",
    "    - {Joko, Budi}\n",
    "    - {Joko, Seno}\n",
    "    - {Budi, Seno}\n"
   ]
  },
  {
   "cell_type": "markdown",
   "id": "0bb7428b",
   "metadata": {},
   "source": [
    "## Kombinasi vs Permutasi"
   ]
  },
  {
   "cell_type": "markdown",
   "id": "8b092a95",
   "metadata": {},
   "source": [
    "* Kombinasi tidak terpengaruh oleh urutan.\n",
    "* Dalam kombinasi: $\\{ \\text{Joko, Budi} \\} = \\{ \\text{Budi, Joko} \\} $\n",
    "* Dalam permutasi: $\\{ \\text{Joko, Budi} \\} \\neq \\{ \\text{Budi, Joko} \\} $"
   ]
  },
  {
   "cell_type": "code",
   "execution_count": 34,
   "id": "d0b85da2",
   "metadata": {},
   "outputs": [],
   "source": [
    "from itertools import combinations"
   ]
  },
  {
   "cell_type": "code",
   "execution_count": 35,
   "id": "6631ea84",
   "metadata": {},
   "outputs": [],
   "source": [
    "teman = {'Joko', 'Budi', 'Seno'}"
   ]
  },
  {
   "cell_type": "code",
   "execution_count": 36,
   "id": "b9bc7552",
   "metadata": {},
   "outputs": [],
   "source": [
    "comb = combinations(teman, 2)"
   ]
  },
  {
   "cell_type": "code",
   "execution_count": 37,
   "id": "2a5ff86f",
   "metadata": {},
   "outputs": [
    {
     "name": "stdout",
     "output_type": "stream",
     "text": [
      "('Budi', 'Joko')\n",
      "('Budi', 'Seno')\n",
      "('Joko', 'Seno')\n"
     ]
    }
   ],
   "source": [
    "for i in list(comb): \n",
    "    print(i)"
   ]
  },
  {
   "cell_type": "markdown",
   "id": "c637ce2e",
   "metadata": {},
   "source": [
    "Untuk menghitung jumlah kombinasi dapat digunakan ekspresi matematis: "
   ]
  },
  {
   "cell_type": "code",
   "execution_count": 38,
   "id": "515c5ca5",
   "metadata": {},
   "outputs": [
    {
     "data": {
      "image/png": "[encoded data removed]",
      "text/plain": [
       "<PIL.PngImagePlugin.PngImageFile image mode=RGBA size=510x117>"
      ]
     },
     "execution_count": 38,
     "metadata": {},
     "output_type": "execute_result"
    }
   ],
   "source": [
    "Image.open(\"file/kombinasi vs permutasi.png\")"
   ]
  },
  {
   "cell_type": "code",
   "execution_count": 39,
   "id": "5d46d633",
   "metadata": {},
   "outputs": [],
   "source": [
    "import math"
   ]
  },
  {
   "cell_type": "code",
   "execution_count": 40,
   "id": "1dab5636",
   "metadata": {},
   "outputs": [
    {
     "data": {
      "text/plain": [
       "3"
      ]
     },
     "execution_count": 40,
     "metadata": {},
     "output_type": "execute_result"
    }
   ],
   "source": [
    "math.comb(3,2)"
   ]
  }
 ],
 "metadata": {
  "kernelspec": {
   "display_name": "pacmann",
   "language": "python",
   "name": "python3"
  },
  "language_info": {
   "codemirror_mode": {
    "name": "ipython",
    "version": 3
   },
   "file_extension": ".py",
   "mimetype": "text/x-python",
   "name": "python",
   "nbconvert_exporter": "python",
   "pygments_lexer": "ipython3",
   "version": "3.8.19"
  }
 },
 "nbformat": 4,
 "nbformat_minor": 5
}
