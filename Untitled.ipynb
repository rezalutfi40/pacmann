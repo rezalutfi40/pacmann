{
 "cells": [
  {
   "cell_type": "code",
   "execution_count": 1,
   "id": "28951d2a-ea07-435d-a8be-2e3611694ec3",
   "metadata": {},
   "outputs": [],
   "source": [
    "nama = \"Reza Lutfi Ismail\""
   ]
  },
  {
   "cell_type": "code",
   "execution_count": null,
   "id": "22f64539-f017-4e40-82bb-eba41b85bb96",
   "metadata": {},
   "outputs": [],
   "source": [
    "print(f\"\")"
   ]
  },
  {
   "cell_type": "code",
   "execution_count": 3,
   "id": "1f59de91-fd83-4d55-b664-9243c7048970",
   "metadata": {},
   "outputs": [
    {
     "name": "stdout",
     "output_type": "stream",
     "text": [
      "\"Jangan katakan itu\", kata mamayong\n"
     ]
    }
   ],
   "source": [
    "print('''\"Jangan katakan itu\", kata mamayong''')"
   ]
  },
  {
   "cell_type": "code",
   "execution_count": 2,
   "id": "b2179756-62b6-48d4-858c-bce41eea1cd2",
   "metadata": {},
   "outputs": [],
   "source": [
    "nama_suami = \"Reza\"\n",
    "nama_istri = \"Dinda\""
   ]
  },
  {
   "cell_type": "code",
   "execution_count": 3,
   "id": "4de8405e-7206-43af-8f01-2ece41cae674",
   "metadata": {},
   "outputs": [],
   "source": [
    "if nama_suami != \"Reza\" :\n",
    "    print(f\"bukan suami {nama_istri}\")"
   ]
  },
  {
   "cell_type": "markdown",
   "id": "b287a7ba-c7af-4210-8323-585c28a1002e",
   "metadata": {},
   "source": [
    "<center>$A = \\{1,2,3,4,5,6,7,\\ldots\\}$</center>"
   ]
  },
  {
   "cell_type": "code",
   "execution_count": null,
   "id": "57637613-2204-42b5-8846-152637387e83",
   "metadata": {},
   "outputs": [],
   "source": []
  }
 ],
 "metadata": {
  "kernelspec": {
   "display_name": "Python 3 (ipykernel)",
   "language": "python",
   "name": "python3"
  },
  "language_info": {
   "codemirror_mode": {
    "name": "ipython",
    "version": 3
   },
   "file_extension": ".py",
   "mimetype": "text/x-python",
   "name": "python",
   "nbconvert_exporter": "python",
   "pygments_lexer": "ipython3",
   "version": "3.7.1"
  }
 },
 "nbformat": 4,
 "nbformat_minor": 5
}
